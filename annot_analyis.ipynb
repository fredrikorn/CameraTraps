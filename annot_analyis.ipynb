{
 "cells": [
  {
   "cell_type": "markdown",
   "id": "renewable-stable",
   "metadata": {},
   "source": [
    "Här ska jag försöka sortera ut alla djurbilder som saknar MD-annoteringar + särskilja bilderna med hundar på på något sätt"
   ]
  },
  {
   "cell_type": "code",
   "execution_count": 50,
   "id": "arranged-offset",
   "metadata": {},
   "outputs": [],
   "source": [
    "import shutil\n",
    "\n",
    "import os\n",
    "import sys\n",
    "import json\n",
    "import pandas as pd\n",
    "\n",
    "from pandas import DataFrame"
   ]
  },
  {
   "cell_type": "code",
   "execution_count": 109,
   "id": "middle-transport",
   "metadata": {},
   "outputs": [],
   "source": [
    "TH = 0.8\n",
    "OUTPUT_FOLDER = \"output/\"\n",
    "IMG_FOLDER = \"images/\"\n",
    "json_path = \"some_output_file.json\"\n",
    "json_data = json.load(open(json_path))"
   ]
  },
  {
   "cell_type": "code",
   "execution_count": 87,
   "id": "constitutional-royalty",
   "metadata": {},
   "outputs": [],
   "source": [
    "human_cameras = list()\n",
    "human_timestamps = list()\n",
    "human_number = list()\n",
    "dog_number = list()\n",
    "human_filenames = list()\n",
    "\n",
    "animal_cameras = list()\n",
    "animal_number = list()\n",
    "animal_timestamps = list()\n",
    "animal_filenames = list()"
   ]
  },
  {
   "cell_type": "code",
   "execution_count": 68,
   "id": "proper-accused",
   "metadata": {},
   "outputs": [],
   "source": [
    "img = json_data[\"images\"][0]\n",
    "filename = (img[\"file\"].split(\"/\")[-1]).split(\"\\\\\")[-1]\n",
    "cam = filename[0:2]\n",
    "det = img[\"detections\"][0]"
   ]
  },
  {
   "cell_type": "code",
   "execution_count": 74,
   "id": "initial-irish",
   "metadata": {},
   "outputs": [],
   "source": [
    "def camera_name(cam):\n",
    "    if cam == 'BR':\n",
    "        return 'Bridge'\n",
    "    elif cam == 'PA':\n",
    "        return 'Path'\n",
    "    elif cam == 'TL':\n",
    "        return 'Treeline'\n",
    "    elif cam == 'TR':\n",
    "        return 'Track'\n",
    "    elif cam == 'TS':\n",
    "        return 'TSS'\n",
    "    elif cam == 'ZZ':\n",
    "        return 'Zigzag'\n",
    "    elif cam == 'CP':\n",
    "        return 'carpark'\n",
    "    elif cam == 'ST':\n",
    "        return 'stream'\n",
    "    elif cam == 'SN':\n",
    "        return 'SNH'\n",
    "    else:\n",
    "        print('Unknown camera: '+ cam )\n",
    "        return cam"
   ]
  },
  {
   "cell_type": "code",
   "execution_count": 88,
   "id": "white-arrow",
   "metadata": {},
   "outputs": [],
   "source": [
    "for img in json_data[\"images\"]:\n",
    "    filename = (img[\"file\"].split(\"/\")[-1]).split(\"\\\\\")[-1]\n",
    "    cam = filename[0:2]\n",
    "    Y = filename[-19:-15]\n",
    "    M = filename[-15:-13]\n",
    "    D = filename[-13:-11]\n",
    "    h = filename[-10:-8]\n",
    "    m = filename[-8:-6]\n",
    "    s = filename[-6:-4]\n",
    "    ts = pd.Timestamp(Y + '-' + M + '-'+ D + ' ' + h + ':' + m + ':' + s)\n",
    "    \n",
    "    animals = 0\n",
    "    humans = 0\n",
    "    dogs = 0\n",
    "    \n",
    "    for det in img[\"detections\"]:\n",
    "        if det[\"conf\"] >= TH:\n",
    "            if det[\"category\"] == '1':\n",
    "                animals +=1\n",
    "            elif det[\"category\"] == '2':\n",
    "                humans +=1\n",
    "        else:\n",
    "            break\n",
    "    \n",
    "    if animals > 0 and humans > 0:\n",
    "        dogs = animals\n",
    "        animals = 0\n",
    "        \n",
    "    elif animals > 0:\n",
    "        animal_cameras.append(camera_name(cam)) \n",
    "        animal_number.append(animals)\n",
    "        animal_timestamps.append(ts)\n",
    "        animal_filenames.append(filename)\n",
    "        \n",
    "    if humans > 0 or dogs >0 :\n",
    "        human_cameras.append( camera_name(cam) )\n",
    "        human_timestamps.append(ts)\n",
    "        human_number.append(humans)\n",
    "        dog_number.append(dogs)\n",
    "        human_filenames.append(filename)"
   ]
  },
  {
   "cell_type": "code",
   "execution_count": 101,
   "id": "precise-gospel",
   "metadata": {},
   "outputs": [],
   "source": [
    "i=0\n",
    "while i in range(len(animal_filenames)):\n",
    "    dog = False\n",
    "    for j in range(len(human_filenames)):\n",
    "        if (animal_cameras[i] == human_cameras[j] and \n",
    "            abs((animal_timestamps[i]-human_timestamps[j]).total_seconds()) < 300):\n",
    "            \n",
    "            dog = True\n",
    "            human_cameras.append(animal_cameras.pop(i))\n",
    "            human_timestamps.append(animal_timestamps.pop(i))\n",
    "            human_number.append(0)\n",
    "            dog_number.append(animal_number.pop(i))\n",
    "            human_filenames.append(animal_filenames.pop(i))\n",
    "            break\n",
    "    \n",
    "    if not dog:\n",
    "        i+=1"
   ]
  },
  {
   "cell_type": "code",
   "execution_count": 104,
   "id": "damaged-booth",
   "metadata": {},
   "outputs": [],
   "source": [
    "animal_df = DataFrame({'Timestamp': animal_timestamps, 'Camera': animal_cameras, \n",
    "                      'Number': animal_number})\n",
    "human_df = DataFrame({'Timestamp': human_timestamps, 'Camera': human_cameras, \n",
    "                      'Number': human_number, 'Dogs': dog_number})\n",
    "\n",
    "animal_df.to_excel(OUTPUT_FOLDER+'wildlife.xlsx', sheet_name='sheet1', index=False)\n",
    "human_df.to_excel(OUTPUT_FOLDER+'people.xlsx', sheet_name='sheet1', index=False)"
   ]
  },
  {
   "cell_type": "code",
   "execution_count": 114,
   "id": "suitable-shield",
   "metadata": {},
   "outputs": [],
   "source": [
    "if not os.path.exists(OUTPUT_FOLDER+'Empty'):\n",
    "    os.makedirs(OUTPUT_FOLDER+'Empty')\n",
    "\n",
    "if not os.path.exists(OUTPUT_FOLDER+'Animal'):\n",
    "    os.makedirs(OUTPUT_FOLDER+'Animal')\n",
    "    \n",
    "if not os.path.exists(OUTPUT_FOLDER+'Human'):\n",
    "    os.makedirs(OUTPUT_FOLDER+'Human')\n",
    "# Could add dog-folder"
   ]
  },
  {
   "cell_type": "code",
   "execution_count": 115,
   "id": "genuine-movie",
   "metadata": {},
   "outputs": [],
   "source": [
    "for filename in animal_filenames:\n",
    "    shutil.move(IMG_FOLDER+filename, OUTPUT_FOLDER+'Animal/'+filename)\n",
    "    \n",
    "for filename in human_filenames:\n",
    "    shutil.move(IMG_FOLDER+filename, OUTPUT_FOLDER+'Human/'+filename)\n",
    "\n",
    "for filename in os.listdir(IMG_FOLDER):\n",
    "    shutil.move(IMG_FOLDER+filename, OUTPUT_FOLDER+'Empty/'+filename)"
   ]
  },
  {
   "cell_type": "code",
   "execution_count": 24,
   "id": "unlimited-magic",
   "metadata": {
    "tags": []
   },
   "outputs": [
    {
     "name": "stdout",
     "output_type": "stream",
     "text": [
      "Number of dogs 100\n"
     ]
    }
   ],
   "source": [
    "x = 1 # 0 for animals, 1 for humans\n",
    "\n",
    "folder = folders[x]\n",
    "pics = os.listdir(folder)\n",
    "detected = False\n",
    "dog = False\n",
    "n_dogs=0\n",
    "missed = 0\n",
    "\n",
    "if not os.path.exists(\"missed\"):\n",
    "    os.mkdir(\"missed\")\n",
    "    \n",
    "if not os.path.exists(\"missed_annotations\"):\n",
    "    os.mkdir(\"missed_annotations\")\n",
    "\n",
    "\n",
    "for i in range( len(pics) ):\n",
    "    #path = \"annotations/\"+ folder + pics[i][:-4]+\".txt\"\n",
    "    path = \"annotations/2013_yolo/\" + pics[i][:-4]+\".txt\"\n",
    "    if os.path.exists(path):\n",
    "        f = open(path, \"r\")\n",
    "        lines = f.readlines()\n",
    "        f.close()\n",
    "        detected = False\n",
    "        dog =False\n",
    "        \n",
    "        for line in lines:\n",
    "            if int(line[0]) == x:  #checks if there was an animal/human detected (we don't want vehicle) \n",
    "                detected = True\n",
    "                break\n",
    "            elif int(line[0]) == 0:\n",
    "                dog = True\n",
    "        \n",
    "        if detected == False and dog : \n",
    "            n_dogs +=1\n",
    "            try:\n",
    "                a = 1\n",
    "                shutil.move(folder+pics[i],\"dogs_2013/\"+ pics[i])\n",
    "                shutil.move(path,\"dogs_2013_annotations/\"+ pics[i][:-4]+\".txt\")\n",
    "            except:\n",
    "                print(\"Exception error\")\n",
    "                print(\"Couldn't move \" + pics[i])\n",
    "        elif detected == False:\n",
    "            shutil.move(folder+pics[i] ,\"missed/\"+ pics[i])\n",
    "            shutil.move(path,\"missed_annotations/\"+ pics[i][:-4]+\".txt\")\n",
    "            missed+=1\n",
    "        continue\n",
    "        \n",
    "    elif pics[i][-4:] ==\".ini\" :\n",
    "        continue\n",
    "        \n",
    "    else:\n",
    "        try:\n",
    "            shutil.move(folder+pics[i] ,\"missed/\"+ pics[i])\n",
    "        except:\n",
    "            print(\"Exception error\")\n",
    "            print(\"Couldn't move \" + pics[i])\n",
    "        missed+=1 #här har den missat att detecta en människa\n",
    "\n",
    "print(\"Number of dogs \" + str(n_dogs))\n",
    "print(\"Number of missed \"+ str(missed))"
   ]
  },
  {
   "cell_type": "code",
   "execution_count": 26,
   "id": "genetic-translation",
   "metadata": {},
   "outputs": [
    {
     "name": "stdout",
     "output_type": "stream",
     "text": [
      "Potentially false positives: 104\n"
     ]
    }
   ],
   "source": [
    "# Remove annotations were there isn't anything to detect\n",
    "folder = \"2013_sorted/Empty/\"\n",
    "pics = os.listdir(folder)\n",
    "\n",
    "missed = 0\n",
    "\n",
    "for i in range( len(pics) ):\n",
    "    path = \"annotations/2013_yolo/\" + pics[i][:-4]+\".txt\"\n",
    "    if os.path.exists(path):\n",
    "        f = open(path, \"r\")\n",
    "        lines = f.readlines()\n",
    "        f.close()\n",
    "        \n",
    "        for line in lines:\n",
    "            if int(line[0]) == 0 or int(line[0]) == 1: \n",
    "                shutil.move(folder+pics[i],\"not_empty/\"+ pics[i])\n",
    "                shutil.move(path ,\"not_empty_annotations/\"+ pics[i][:-4]+\".txt\")\n",
    "                missed+=1\n",
    "                break\n",
    "        \n",
    "    elif pics[i][-4:] ==\".ini\" :\n",
    "        continue\n",
    "\n",
    "print(\"Potentially false positives: \"+ str(missed))"
   ]
  },
  {
   "cell_type": "code",
   "execution_count": 113,
   "id": "ranking-arcade",
   "metadata": {},
   "outputs": [
    {
     "name": "stdout",
     "output_type": "stream",
     "text": [
      "ZZ 20130101 143354.JPG\n",
      "ZZ 20130101 144659.JPG\n",
      "ZZ 20131012 133533.JPG\n"
     ]
    }
   ],
   "source": [
    "for file in os.listdir(IMG_FOLDER):\n",
    "    print(file)"
   ]
  },
  {
   "cell_type": "code",
   "execution_count": null,
   "id": "blocked-arthritis",
   "metadata": {},
   "outputs": [],
   "source": []
  }
 ],
 "metadata": {
  "kernelspec": {
   "display_name": "Python 3",
   "language": "python",
   "name": "python3"
  },
  "language_info": {
   "codemirror_mode": {
    "name": "ipython",
    "version": 3
   },
   "file_extension": ".py",
   "mimetype": "text/x-python",
   "name": "python",
   "nbconvert_exporter": "python",
   "pygments_lexer": "ipython3",
   "version": "3.7.6"
  }
 },
 "nbformat": 4,
 "nbformat_minor": 5
}
